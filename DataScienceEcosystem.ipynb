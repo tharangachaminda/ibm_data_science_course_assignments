{
 "cells": [
  {
   "cell_type": "markdown",
   "id": "e603c04d-6789-4ca7-b756-a3f230270766",
   "metadata": {},
   "source": [
    "# Data Science Tools and Ecosystem"
   ]
  },
  {
   "cell_type": "markdown",
   "id": "83727a8d-eb0f-4f4e-9666-c5e5640b67c9",
   "metadata": {},
   "source": [
    "In this notebook, Data Science Tools and Ecosystem are summarized."
   ]
  },
  {
   "cell_type": "markdown",
   "id": "abfcce8b-0b84-4d01-9506-fe96f4a00977",
   "metadata": {},
   "source": [
    "**Objectives:**\n",
    "- List popular languages for Data Science\n",
    "- List commonly used libraries used by Data Scientists\n",
    "- List few open source Data Science IDEs in a Table\n",
    "- Evaluating arithmatic expression in Python"
   ]
  },
  {
   "cell_type": "markdown",
   "id": "41815355-870c-4b01-b2a5-e50cd3625080",
   "metadata": {},
   "source": [
    "Some of the popular languages that Data Scientists use are:\n",
    "1. Python\n",
    "2. R\n",
    "3. Julia\n",
    "4. Java\n",
    "5. C++"
   ]
  },
  {
   "cell_type": "markdown",
   "id": "205ad68a-0177-4938-a61a-a6763df24cbf",
   "metadata": {},
   "source": [
    "Some of the commonly used libraries used by Data Scientists include:\n",
    "1. Pandas\n",
    "2. numpy\n",
    "3. seadorn\n",
    "4. matplotlib\n",
    "5. scikit-learn"
   ]
  },
  {
   "cell_type": "markdown",
   "id": "e3700914-659d-47ea-9005-8dc1b1e7cbef",
   "metadata": {},
   "source": [
    "|Data Science Tools|\n",
    "--------------------\n",
    "|Jupyter Notebook|\n",
    "|JupyterLab|\n",
    "|Spyder|"
   ]
  },
  {
   "cell_type": "markdown",
   "id": "45ab73d9-2f22-476a-bf03-0cb819e000d6",
   "metadata": {},
   "source": [
    "### Below are a few examples of evaluating arithmetic expressions in Python"
   ]
  },
  {
   "cell_type": "code",
   "execution_count": 2,
   "id": "66092a41-e3da-40f2-a8b7-7f1e30aefe6a",
   "metadata": {},
   "outputs": [
    {
     "data": {
      "text/plain": [
       "17"
      ]
     },
     "execution_count": 2,
     "metadata": {},
     "output_type": "execute_result"
    }
   ],
   "source": [
    "# This a simple arithmetic expression to mutiply then add integers\n",
    "(3*4)+5"
   ]
  },
  {
   "cell_type": "code",
   "execution_count": 3,
   "id": "15ccd241-8364-465f-91d9-9e85240ff7a3",
   "metadata": {},
   "outputs": [
    {
     "data": {
      "text/plain": [
       "3.3333333333333335"
      ]
     },
     "execution_count": 3,
     "metadata": {},
     "output_type": "execute_result"
    }
   ],
   "source": [
    "# This will convert 200 minutes to hours by diving by 60\n",
    "200/60"
   ]
  },
  {
   "cell_type": "markdown",
   "id": "3ab9ba54-ada6-407e-94aa-6eca83522185",
   "metadata": {},
   "source": [
    "## Author\n",
    "Tharanga Nandasena"
   ]
  },
  {
   "cell_type": "code",
   "execution_count": null,
   "id": "c76613a3-8e03-4eba-bf81-a1196566a48f",
   "metadata": {},
   "outputs": [],
   "source": []
  }
 ],
 "metadata": {
  "kernelspec": {
   "display_name": "Python 3 (ipykernel)",
   "language": "python",
   "name": "python3"
  },
  "language_info": {
   "codemirror_mode": {
    "name": "ipython",
    "version": 3
   },
   "file_extension": ".py",
   "mimetype": "text/x-python",
   "name": "python",
   "nbconvert_exporter": "python",
   "pygments_lexer": "ipython3",
   "version": "3.10.9"
  }
 },
 "nbformat": 4,
 "nbformat_minor": 5
}
